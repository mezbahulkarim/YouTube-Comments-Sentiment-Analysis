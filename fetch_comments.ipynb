{
 "cells": [
  {
   "cell_type": "code",
   "execution_count": 45,
   "metadata": {},
   "outputs": [],
   "source": [
    "from googleapiclient.discovery import build\n",
    "from dotenv import dotenv_values\n",
    "import os\n",
    "import re\n",
    "import pandas as pd \n",
    "import string"
   ]
  },
  {
   "cell_type": "code",
   "execution_count": 18,
   "metadata": {},
   "outputs": [],
   "source": [
    "# Set Key Value\n",
    "\n",
    "config = dotenv_values(\".api_key\")\n",
    "key_value = config[\"KEY\"]\n",
    "\n",
    "#print(key_value)"
   ]
  },
  {
   "cell_type": "code",
   "execution_count": 19,
   "metadata": {},
   "outputs": [
    {
     "data": {
      "text/plain": [
       "<googleapiclient.discovery.Resource at 0x7fd4ee573d60>"
      ]
     },
     "execution_count": 19,
     "metadata": {},
     "output_type": "execute_result"
    }
   ],
   "source": [
    "# Make build object for fetching from YouTube\n",
    "\n",
    "youtube = build(\n",
    "    'youtube',\n",
    "    'v3',\n",
    "    developerKey=key_value\n",
    ")\n",
    "\n",
    "youtube"
   ]
  },
  {
   "cell_type": "code",
   "execution_count": 20,
   "metadata": {},
   "outputs": [
    {
     "data": {
      "text/plain": [
       "{'kind': 'youtube#channelListResponse',\n",
       " 'etag': 'MzQPhSVE-PAN_l4_GpfpgskVwv0',\n",
       " 'pageInfo': {'totalResults': 1, 'resultsPerPage': 5},\n",
       " 'items': [{'kind': 'youtube#channel',\n",
       "   'etag': 'fZ0kFDsIi3i5TufrNftX-j80xaw',\n",
       "   'id': 'UC16niRr50-MSBwiO3YDb3RA',\n",
       "   'statistics': {'viewCount': '4966158168',\n",
       "    'subscriberCount': '15300000',\n",
       "    'hiddenSubscriberCount': False,\n",
       "    'videoCount': '20170'}}]}"
      ]
     },
     "execution_count": 20,
     "metadata": {},
     "output_type": "execute_result"
    }
   ],
   "source": [
    "# Test a basic request\n",
    "\n",
    "request = youtube.channels().list(\n",
    "    part = 'statistics',\n",
    "    forUsername = 'BBCNews'\n",
    ")\n",
    "\n",
    "response = request.execute()\n",
    "\n",
    "response"
   ]
  },
  {
   "cell_type": "code",
   "execution_count": 26,
   "metadata": {},
   "outputs": [
    {
     "data": {
      "text/plain": [
       "'\\nvideo_link = \"https://www.youtube.com/watch?v=SIm2W9TtzR0\"\\n\\nid = get_video_id(video_link)\\nprint(id)\\n'"
      ]
     },
     "execution_count": 26,
     "metadata": {},
     "output_type": "execute_result"
    }
   ],
   "source": [
    "# Get Video ID from Link \n",
    "\n",
    "def get_video_id(video_link):\n",
    "\n",
    "    # Define a regular expression pattern to match YouTube video URLs\n",
    "    pattern = (\n",
    "        r'(?:https?://)?(?:www\\.)?'\n",
    "        '(?:youtube\\.com/.*?[?&]v=|youtu\\.be/|youtube\\.com/embed/|youtube\\.com/v/|youtube\\.com/e/|youtube\\.com/user/[^/]+/u/0/|www\\.youtube\\.com/user/[^/]+/u/0/|youtube\\.com/s[^/]+/|www\\.youtube\\.com/s[^/]+/|youtube\\.com/channel/|youtube\\.com/c/|youtube\\.com/user/[^/]+/|youtube\\.com/user/[^/]+/live/|twitch\\.tv/)'\n",
    "        '([^\"&?/ ]{11})'\n",
    "    )\n",
    "\n",
    "    # Use re.search to find the video ID in the URL\n",
    "    match = re.search(pattern, video_link)\n",
    "\n",
    "    # If a match is found, return the video ID; otherwise, return None\n",
    "    return match.group(1) if match else None\n",
    "\n",
    "\n",
    "\"\"\"\n",
    "video_link = \"https://www.youtube.com/watch?v=SIm2W9TtzR0\"\n",
    "\n",
    "id = get_video_id(video_link)\n",
    "print(id)\n",
    "\"\"\"\n"
   ]
  },
  {
   "cell_type": "code",
   "execution_count": 27,
   "metadata": {},
   "outputs": [
    {
     "name": "stdout",
     "output_type": "stream",
     "text": [
      "https://www.youtube.com/watch?v=SIm2W9TtzR0\n"
     ]
    }
   ],
   "source": [
    "\n",
    "# Promt User for Video Link or hard code\n",
    "video_link = str(input(\"Enter Video Link: \"))\n",
    "print(video_link)\n",
    "\n",
    "video_id = get_video_id(video_link)\n",
    "#video_link = https://www.youtube.com/watch?v=SIm2W9TtzR0\n",
    "\n"
   ]
  },
  {
   "cell_type": "code",
   "execution_count": 63,
   "metadata": {},
   "outputs": [
    {
     "name": "stdout",
     "output_type": "stream",
     "text": [
      "0                                         thankyou adam\n",
      "1                                            good video\n",
      "2     How many maximum comments can we pull at a tim...\n",
      "3     Only the top level comments are returned throu...\n",
      "4            How do I put the comments into spreadsheet\n",
      "5     Finally got around to making the advanced vide...\n",
      "6                                                   wow\n",
      "7                                works with live video \n",
      "8      Great video will it also scrape Instagram videos\n",
      "9     Thank you so much Great video Looking forward ...\n",
      "10    Great video Can you make an explain video on h...\n",
      "11    I tried to make a loop to get all the videos f...\n",
      "12    Hi i Found this video to be very helpfull in m...\n",
      "13                   Does this work with Youtube shorts\n",
      "14    No te olvides de continuar este proyecto y agr...\n",
      "15    question i39m currently using the youtube api ...\n",
      "16    But it doesn39t show all the comments even cha...\n",
      "17     Thank you so much Adam It is really very helpful\n",
      "18    Very helpful video I was doing web scrapping u...\n",
      "19    Can i scrap any youtube video Or just the vide...\n",
      "20    hi how to fetch real time data from you tube p...\n",
      "21    Thanks easy peasy Is there a way we can have a...\n",
      "22    Thanks Adam This was easy and straightforward ...\n",
      "23    Just a question do we have to pay to use googl...\n",
      "24                  Thank you Adam Very straightforward\n",
      "25    hey AdambrThank you for this video I will real...\n",
      "26                Thank you for this Adam Great tuorial\n",
      "Name: comment, dtype: object\n"
     ]
    }
   ],
   "source": [
    "\n",
    "# Take Comments and make pandas dataframe \n",
    "request = youtube.commentThreads().list(\n",
    "    part=\"snippet\",\n",
    "    videoId=video_id,\n",
    "    maxResults=100\n",
    ")\n",
    "\n",
    "response = request.execute()\n",
    "\n",
    "comments = []\n",
    "\n",
    "for item in response['items']:\n",
    "    comment = item['snippet']['topLevelComment']['snippet']\n",
    "    # Remove special characters from the comments\n",
    "    comment_text = ''.join(e for e in comment['textDisplay'] if (e.isalnum() or e.isspace()))\n",
    "    comments.append([comment_text])\n",
    "\n",
    "df = pd.DataFrame(comments, columns=['comment'])\n",
    "\n",
    "#df.head(100)\n",
    "\n",
    "print(df['comment'])\n"
   ]
  },
  {
   "cell_type": "code",
   "execution_count": 62,
   "metadata": {},
   "outputs": [],
   "source": [
    "# Save dataframe as csv\n",
    "df.to_csv('youtube_comments.csv', index=False)"
   ]
  }
 ],
 "metadata": {
  "kernelspec": {
   "display_name": "Python 3",
   "language": "python",
   "name": "python3"
  },
  "language_info": {
   "codemirror_mode": {
    "name": "ipython",
    "version": 3
   },
   "file_extension": ".py",
   "mimetype": "text/x-python",
   "name": "python",
   "nbconvert_exporter": "python",
   "pygments_lexer": "ipython3",
   "version": "3.10.12"
  }
 },
 "nbformat": 4,
 "nbformat_minor": 2
}
