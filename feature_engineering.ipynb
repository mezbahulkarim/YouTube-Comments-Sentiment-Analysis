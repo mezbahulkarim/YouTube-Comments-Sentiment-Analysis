{
 "cells": [
  {
   "cell_type": "code",
   "execution_count": 1,
   "metadata": {},
   "outputs": [],
   "source": [
    "import pandas as pd\n",
    "from vaderSentiment.vaderSentiment import SentimentIntensityAnalyzer"
   ]
  },
  {
   "cell_type": "code",
   "execution_count": 2,
   "metadata": {},
   "outputs": [
    {
     "name": "stdout",
     "output_type": "stream",
     "text": [
      "                                              comment  sentiment\n",
      "0                                       thankyou adam     0.0000\n",
      "1                                          good video     0.4404\n",
      "2   How many maximum comments can we pull at a tim...     0.6640\n",
      "3   Only the top level comments are returned throu...     0.2023\n",
      "4          How do I put the comments into spreadsheet     0.0000\n",
      "5   Finally got around to making the advanced vide...     0.2500\n",
      "6                                                 wow     0.5859\n",
      "7                              works with live video      0.0000\n",
      "8    Great video will it also scrape Instagram videos     0.6249\n",
      "9   Thank you so much Great video Looking forward ...     0.7832\n",
      "10  Great video Can you make an explain video on h...     0.7650\n",
      "11  I tried to make a loop to get all the videos f...    -0.4019\n",
      "12  Hi i Found this video to be very helpfull in m...     0.2023\n",
      "13                 Does this work with Youtube shorts     0.0000\n",
      "14  No te olvides de continuar este proyecto y agr...     0.1280\n",
      "15  question i39m currently using the youtube api ...    -0.8225\n",
      "16  But it doesn39t show all the comments even cha...     0.0000\n",
      "17   Thank you so much Adam It is really very helpful     0.7070\n",
      "18  Very helpful video I was doing web scrapping u...     0.8905\n",
      "19  Can i scrap any youtube video Or just the vide...     0.0000\n",
      "20  hi how to fetch real time data from you tube p...     0.3182\n",
      "21  Thanks easy peasy Is there a way we can have a...     0.7003\n",
      "22  Thanks Adam This was easy and straightforward ...     0.7003\n",
      "23  Just a question do we have to pay to use googl...    -0.1027\n",
      "24                Thank you Adam Very straightforward     0.3612\n",
      "25  hey AdambrThank you for this video I will real...     0.4576\n",
      "26              Thank you for this Adam Great tuorial     0.7650\n"
     ]
    }
   ],
   "source": [
    "df = pd.read_csv('youtube_comments.csv')\n",
    "analyzer = SentimentIntensityAnalyzer()\n",
    "df['sentiment'] = df['comment'].apply(lambda x: analyzer.polarity_scores(x)['compound'])\n",
    "print(df)\n"
   ]
  },
  {
   "cell_type": "code",
   "execution_count": 3,
   "metadata": {},
   "outputs": [],
   "source": [
    "df.to_csv('labelled_comments.csv', index=False)"
   ]
  }
 ],
 "metadata": {
  "kernelspec": {
   "display_name": "Python 3",
   "language": "python",
   "name": "python3"
  },
  "language_info": {
   "codemirror_mode": {
    "name": "ipython",
    "version": 3
   },
   "file_extension": ".py",
   "mimetype": "text/x-python",
   "name": "python",
   "nbconvert_exporter": "python",
   "pygments_lexer": "ipython3",
   "version": "3.10.12"
  }
 },
 "nbformat": 4,
 "nbformat_minor": 2
}
