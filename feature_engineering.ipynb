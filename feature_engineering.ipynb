{
 "cells": [
  {
   "cell_type": "code",
   "execution_count": 16,
   "metadata": {},
   "outputs": [],
   "source": [
    "import pandas as pd\n",
    "from vaderSentiment.vaderSentiment import SentimentIntensityAnalyzer"
   ]
  },
  {
   "cell_type": "code",
   "execution_count": 17,
   "metadata": {},
   "outputs": [
    {
     "name": "stdout",
     "output_type": "stream",
     "text": [
      "                                                 comment  sentiment\n",
      "0                                          thankyou adam     0.0000\n",
      "1                                             good video     0.4404\n",
      "2      How many maximum comments can we pull at a tim...     0.6640\n",
      "3      Only the top level comments are returned throu...     0.2023\n",
      "4             How do I put the comments into spreadsheet     0.0000\n",
      "...                                                  ...        ...\n",
      "60910                                        Works to me     0.0000\n",
      "60911  Help me win this amazing CS GO giveaway from I...     0.9001\n",
      "60912  RickFox looking good on nbcsvu  dont forget ab...     0.5523\n",
      "60913  That was actually good criticism A lot of game...    -0.3570\n",
      "60914  GhostRecon the first ones free the next 3 term...     0.8100\n",
      "\n",
      "[60915 rows x 2 columns]\n"
     ]
    }
   ],
   "source": [
    "df = pd.read_csv('cleaned_comments.csv')\n",
    "analyzer = SentimentIntensityAnalyzer()\n",
    "df['sentiment'] = df['comment'].apply(lambda x: analyzer.polarity_scores(x)['compound'])\n",
    "print(df)\n"
   ]
  },
  {
   "cell_type": "code",
   "execution_count": 4,
   "metadata": {},
   "outputs": [],
   "source": [
    "df.to_csv('labelled_comments.csv', index=False)"
   ]
  }
 ],
 "metadata": {
  "kernelspec": {
   "display_name": "Python 3",
   "language": "python",
   "name": "python3"
  },
  "language_info": {
   "codemirror_mode": {
    "name": "ipython",
    "version": 3
   },
   "file_extension": ".py",
   "mimetype": "text/x-python",
   "name": "python",
   "nbconvert_exporter": "python",
   "pygments_lexer": "ipython3",
   "version": "3.10.12"
  }
 },
 "nbformat": 4,
 "nbformat_minor": 2
}
